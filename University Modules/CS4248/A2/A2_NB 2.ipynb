{
 "cells": [
  {
   "cell_type": "markdown",
   "metadata": {},
   "source": [
    "Import Libraries"
   ]
  },
  {
   "cell_type": "code",
   "execution_count": null,
   "metadata": {},
   "outputs": [],
   "source": [
    "# Import libraries.  Add any additional ones here.\n",
    "# Generally, system libraries precede others.\n",
    "import pandas as pd\n",
    "from sklearn.metrics import f1_score\n",
    "from sklearn.naive_bayes import MultinomialNB\n",
    "\n",
    "from sklearn.feature_extraction.text import ENGLISH_STOP_WORDS\n",
    "\n",
    "import numpy as np\n",
    "import gensim.downloader as d\n",
    "from gensim.models import Word2Vec\n",
    "from sklearn.feature_extraction.text import TfidfVectorizer\n",
    "\n",
    "from sklearn.preprocessing import MinMaxScaler"
   ]
  },
  {
   "cell_type": "code",
   "execution_count": 39,
   "metadata": {},
   "outputs": [],
   "source": [
    "_NAME = \"ChowJieSeth\"\n",
    "_STUDENT_NUM = 'E0725441'"
   ]
  },
  {
   "cell_type": "markdown",
   "metadata": {},
   "source": [
    "Preprocessing"
   ]
  },
  {
   "cell_type": "code",
   "execution_count": 40,
   "metadata": {},
   "outputs": [],
   "source": [
    "def preprocess(text):\n",
    "    \n",
    "    # simple tokenization and lowercasing\n",
    "    tokens = text.lower().split()\n",
    "    \n",
    "    stopwords = ENGLISH_STOP_WORDS\n",
    "    tokens = [token for token in tokens if token not in stopwords]\n",
    "\n",
    "    return \" \".join(tokens)\n",
    "\n",
    "def tokenize(text):\n",
    "    return [sentence.split() for sentence in text]"
   ]
  },
  {
   "cell_type": "markdown",
   "metadata": {},
   "source": [
    "Feature Engineering"
   ]
  },
  {
   "cell_type": "code",
   "execution_count": 41,
   "metadata": {},
   "outputs": [],
   "source": [
    "class GloveTransformer():\n",
    "    def __init__(self, embedding_dim=100):\n",
    "        self.embedding_dim = embedding_dim\n",
    "\n",
    "        self.glove = d.load(f\"glove-wiki-gigaword-{embedding_dim}\")\n",
    "    \n",
    "    def transform(self, X):\n",
    "        features = []\n",
    "        for text in X:\n",
    "\n",
    "            tokens = text.split()\n",
    "\n",
    "            token_vectors = [self.glove[word] for word in tokens if word in self.glove]\n",
    "\n",
    "            if token_vectors:\n",
    "                avg_vector = np.mean(token_vectors, axis=0)\n",
    "            else:\n",
    "                avg_vector = np.zeros(self.embedding_dim)\n",
    "            features.append(avg_vector)\n",
    "        \n",
    "        # convert dense to sparse vector\n",
    "        return np.array(features)"
   ]
  },
  {
   "cell_type": "code",
   "execution_count": 42,
   "metadata": {},
   "outputs": [],
   "source": [
    "def w2v(tokens, model, embedding_dim=50):\n",
    "    token_vectors = [model.wv[word] for word in tokens if word in model.wv]\n",
    "    return np.mean(token_vectors, axis=0) if token_vectors else np.zeros(embedding_dim)\n"
   ]
  },
  {
   "cell_type": "markdown",
   "metadata": {},
   "source": [
    "Train Model"
   ]
  },
  {
   "cell_type": "code",
   "execution_count": 43,
   "metadata": {},
   "outputs": [],
   "source": [
    "def train_model(model, X_train, y_train):\n",
    "    model.fit(X_train, y_train)"
   ]
  },
  {
   "cell_type": "markdown",
   "metadata": {},
   "source": [
    "Predict Test Set"
   ]
  },
  {
   "cell_type": "code",
   "execution_count": 44,
   "metadata": {},
   "outputs": [],
   "source": [
    "def predict(model, X_test):\n",
    "    return model.predict(X_test)"
   ]
  },
  {
   "cell_type": "markdown",
   "metadata": {},
   "source": [
    "Export Predictions"
   ]
  },
  {
   "cell_type": "code",
   "execution_count": 45,
   "metadata": {},
   "outputs": [],
   "source": [
    "def generate_result(test, y_pred, filename):\n",
    "    test['Verdict'] = pd.Series(y_pred)\n",
    "    test.drop(columns=['Text'], inplace=True)\n",
    "    test.to_csv(filename, index=False)"
   ]
  },
  {
   "cell_type": "markdown",
   "metadata": {},
   "source": [
    "Main"
   ]
  },
  {
   "cell_type": "code",
   "execution_count": null,
   "metadata": {},
   "outputs": [
    {
     "name": "stdout",
     "output_type": "stream",
     "text": [
      "score on validation = 0.6351921563354225\n"
     ]
    }
   ],
   "source": [
    "# load dataset\n",
    "train = pd.read_csv('train.csv')\n",
    "X_train = train['Text']\n",
    "y_train = train['Verdict']\n",
    "test = pd.read_csv('test.csv')\n",
    "X_test = test['Text']\n",
    "\n",
    "# preprocessing\n",
    "X_train_tokens = tokenize(X_train)\n",
    "X_test_tokens = tokenize(X_test)\n",
    "\n",
    "# feature engineering / vectorization\n",
    "tfidf_vectorizer = TfidfVectorizer()\n",
    "X_train_tfidf = tfidf_vectorizer.fit_transform(X_train)\n",
    "X_test_tfidf = tfidf_vectorizer.transform(X_test)\n",
    "\n",
    "glove_transformer = GloveTransformer(embedding_dim=100)\n",
    "X_train_glove = glove_transformer.transform(X_train)\n",
    "X_test_glove = glove_transformer.transform(X_test)\n",
    "\n",
    "w2v_model = Word2Vec(sentences=X_train_tokens, vector_size=100, window=5, min_count=1, sg=1, epochs=10)\n",
    "X_train_sg = np.array([w2v(tokens, w2v_model, embedding_dim=100) for tokens in X_train_tokens])\n",
    "X_test_sg = np.array([w2v(tokens, w2v_model, embedding_dim=100) for tokens in X_test_tokens])\n",
    "\n",
    "X_train_combined = np.hstack([X_train_tfidf.toarray(), X_train_glove, X_train_sg])\n",
    "X_test_combined = np.hstack([X_test_tfidf.toarray(), X_test_glove, X_test_sg])\n",
    "\n",
    "# normalize the dataset as nb doesnt support -ve values\n",
    "scaler = MinMaxScaler()\n",
    "X_train_combined = scaler.fit_transform(X_train_combined)\n",
    "X_test_combined = scaler.transform(X_test_combined)\n",
    "\n",
    "# define model\n",
    "model = MultinomialNB()\n",
    "\n",
    "train_model(model, X_train_combined, y_train)\n",
    "# test your model\n",
    "y_pred = predict(model, X_train_combined)\n",
    "\n",
    "# Use f1-macro as the metric\n",
    "score = f1_score(y_train, y_pred, average='macro')\n",
    "print('score on validation = {}'.format(score))\n",
    "\n",
    "# generate prediction on test data\n",
    "y_pred = predict(model, X_test_combined)\n",
    "\n",
    "output_filename = f\"A2_{_NAME}_{_STUDENT_NUM}.csv\"\n",
    "generate_result(test, y_pred, output_filename)"
   ]
  }
 ],
 "metadata": {
  "kernelspec": {
   "display_name": "A2",
   "language": "python",
   "name": "python3"
  },
  "language_info": {
   "codemirror_mode": {
    "name": "ipython",
    "version": 3
   },
   "file_extension": ".py",
   "mimetype": "text/x-python",
   "name": "python",
   "nbconvert_exporter": "python",
   "pygments_lexer": "ipython3",
   "version": "3.11.11"
  }
 },
 "nbformat": 4,
 "nbformat_minor": 2
}
